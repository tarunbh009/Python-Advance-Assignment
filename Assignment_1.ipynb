{
 "cells": [
  {
   "cell_type": "markdown",
   "metadata": {},
   "source": [
    "Q1. What is the purpose of Python's OOP?"
   ]
  },
  {
   "cell_type": "markdown",
   "metadata": {},
   "source": [
    "- Object-Oriented Programming makes the program easy to understand as well as efficient.\n",
    "- Since the class is sharable, the code can be reused.\n",
    "- Data is safe and secure with data abstraction.\n",
    "- Polymorphism allows the same interface for different objects, so programmers can write efficient code\n",
    "- inherit feature allows programmer to inhetit the methods from existing programs\n",
    "- Provides a clear program structure and a clean code\n",
    "- Facilitates easy maintenance and modification of existing code."
   ]
  },
  {
   "cell_type": "code",
   "execution_count": null,
   "metadata": {},
   "outputs": [],
   "source": []
  },
  {
   "cell_type": "markdown",
   "metadata": {},
   "source": [
    "Q2. Where does an inheritance search look for an attribute?"
   ]
  },
  {
   "cell_type": "markdown",
   "metadata": {},
   "source": [
    "The inheritance search happens in bottom up fashion. its starts form object.attr and search all the way up to the parent class to find the find the first occurrence of attribute by looking in object, then in all classes above it, from bottom to top and left to right"
   ]
  },
  {
   "cell_type": "code",
   "execution_count": null,
   "metadata": {},
   "outputs": [],
   "source": []
  },
  {
   "cell_type": "markdown",
   "metadata": {},
   "source": [
    "Q3. How do you distinguish between a class object and an instance object?"
   ]
  },
  {
   "cell_type": "markdown",
   "metadata": {},
   "source": [
    "Class Object - when we create a class , a class object is created.The class name itself is class object. we can access class variable using this class name\n",
    "\n",
    "    Exanple  class test:\n",
    "                x = 10\n",
    "                def __init__(self,a,b)\n",
    "                    self.a = a\n",
    "                    self.b = b\n",
    "            print(test.x)\n",
    "\n",
    "using this text.x we can access its class variables.. We can have only one class objects for a class.\n",
    "\n",
    "Instance Object - when we access class with paranthesis like test(), this will creat a instance of a class. we can have n numbers of instance objects for same class."
   ]
  },
  {
   "cell_type": "code",
   "execution_count": 1,
   "metadata": {},
   "outputs": [
    {
     "name": "stdout",
     "output_type": "stream",
     "text": [
      "10\n"
     ]
    }
   ],
   "source": [
    "## Class object\n",
    "class test:\n",
    "    x = 10\n",
    "    def __init__(self,a,b):\n",
    "        self.a = a\n",
    "        self.b = b\n",
    "print(test.x)"
   ]
  },
  {
   "cell_type": "code",
   "execution_count": 2,
   "metadata": {},
   "outputs": [
    {
     "data": {
      "text/plain": [
       "3"
      ]
     },
     "execution_count": 2,
     "metadata": {},
     "output_type": "execute_result"
    }
   ],
   "source": [
    "## instance object\n",
    "instObj = test(3,4)\n",
    "instObj.a"
   ]
  },
  {
   "cell_type": "code",
   "execution_count": null,
   "metadata": {},
   "outputs": [],
   "source": []
  },
  {
   "cell_type": "markdown",
   "metadata": {},
   "source": [
    "Q4. What makes the first argument in a class’s method function special?"
   ]
  },
  {
   "cell_type": "markdown",
   "metadata": {},
   "source": [
    "The keyword self represents the instance of a class and binds the attributes with the given arguments"
   ]
  },
  {
   "cell_type": "code",
   "execution_count": null,
   "metadata": {},
   "outputs": [],
   "source": []
  },
  {
   "cell_type": "markdown",
   "metadata": {},
   "source": [
    "Q5. What is the purpose of the init method?"
   ]
  },
  {
   "cell_type": "markdown",
   "metadata": {},
   "source": [
    "- The task of init method is to initialize(assign values) to the data members of the class when an object of class is created.\n",
    "- It is run as soon as an object of a class is initiated. The method is useful to do any initialization you want to do with your object."
   ]
  },
  {
   "cell_type": "code",
   "execution_count": null,
   "metadata": {},
   "outputs": [],
   "source": []
  },
  {
   "cell_type": "markdown",
   "metadata": {},
   "source": [
    "Q6. What is the process for creating a class instance?"
   ]
  },
  {
   "cell_type": "markdown",
   "metadata": {},
   "source": [
    "- Create a class\n",
    "- call the class using class name and assign it to a variable (object variable)\n",
    "- pass in whatever arguments its init method accepts"
   ]
  },
  {
   "cell_type": "code",
   "execution_count": null,
   "metadata": {},
   "outputs": [],
   "source": []
  },
  {
   "cell_type": "markdown",
   "metadata": {},
   "source": [
    "Q7. What is the process for creating a class?"
   ]
  },
  {
   "cell_type": "code",
   "execution_count": null,
   "metadata": {},
   "outputs": [],
   "source": [
    "- class definition starts with keyword class\n",
    "- follwed by classname and ':'\n",
    "- class will have doc string\n",
    "- class should have at least one statements."
   ]
  },
  {
   "cell_type": "code",
   "execution_count": 3,
   "metadata": {},
   "outputs": [],
   "source": [
    "class MyNewClass:\n",
    "    '''This is a docstring. I have created a new class'''\n",
    "    pass"
   ]
  },
  {
   "cell_type": "code",
   "execution_count": null,
   "metadata": {},
   "outputs": [],
   "source": []
  },
  {
   "cell_type": "markdown",
   "metadata": {},
   "source": [
    "Q8. How would you define the superclasses of a class?"
   ]
  },
  {
   "cell_type": "markdown",
   "metadata": {},
   "source": [
    "A superclass is the class from which many subclasses can be created. The subclasses inherit the characteristics of a superclass. The superclass is also known as the parent class or base class."
   ]
  },
  {
   "cell_type": "code",
   "execution_count": 6,
   "metadata": {},
   "outputs": [
    {
     "name": "stdout",
     "output_type": "stream",
     "text": [
      "This is superclass\n",
      "This is subclass\n"
     ]
    }
   ],
   "source": [
    "# Example:\n",
    "# superclass\n",
    "class Person():\n",
    "    def display1(self):\n",
    "        print(\"This is superclass\")\n",
    "\n",
    "# subclass        \n",
    "class Employee(Person):\n",
    "    def display2(self):\n",
    "        print(\"This is subclass\")\n",
    "emp = Employee()  # creating object of subclass\n",
    " \n",
    "emp.display1()\n",
    "emp.display2()"
   ]
  },
  {
   "cell_type": "code",
   "execution_count": null,
   "metadata": {},
   "outputs": [],
   "source": []
  }
 ],
 "metadata": {
  "kernelspec": {
   "display_name": "Python 3",
   "language": "python",
   "name": "python3"
  },
  "language_info": {
   "codemirror_mode": {
    "name": "ipython",
    "version": 3
   },
   "file_extension": ".py",
   "mimetype": "text/x-python",
   "name": "python",
   "nbconvert_exporter": "python",
   "pygments_lexer": "ipython3",
   "version": "3.8.5"
  }
 },
 "nbformat": 4,
 "nbformat_minor": 4
}
